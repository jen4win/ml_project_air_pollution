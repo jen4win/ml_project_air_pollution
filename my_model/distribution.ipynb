{
 "cells": [
  {
   "cell_type": "markdown",
   "id": "e4982b6f-5501-4dea-affe-ef3d3855212e",
   "metadata": {},
   "source": [
    "**Histograms for distribution**"
   ]
  },
  {
   "cell_type": "code",
   "execution_count": 3,
   "id": "c1cff186-0e73-4ebe-a904-ce3907cbf6de",
   "metadata": {
    "tags": []
   },
   "outputs": [],
   "source": [
    "import matplotlib.pyplot as plt\n",
    "import seaborn as sns"
   ]
  },
  {
   "cell_type": "code",
   "execution_count": 1,
   "id": "efb98685-1eb3-461f-9882-41fa2ba2ac6d",
   "metadata": {
    "tags": []
   },
   "outputs": [],
   "source": [
    "# Plot histograms for train data #Histplot for every item in X_train:\n",
    "def plot_histograms(X_train):\n",
    "    fig,ax = plt.subplots(8,5,figsize=(16,16))\n",
    "    count = 0\n",
    "    for i in range (8):\n",
    "        for j in range (5):\n",
    "            if count < len (X_train.columns):\n",
    "                item = X_train.columns[count]\n",
    "                sns.histplot(X_train[item], kde=True, ax=ax[i][j]).set(title = item, xlabel ='')\n",
    "                count += 1\n",
    "            else:\n",
    "                ax[i][j].set_visible(False)\n",
    "    fig.tight_layout(pad=3)"
   ]
  },
  {
   "cell_type": "code",
   "execution_count": null,
   "id": "17c3e9f1-0a5b-4950-882a-b1d48882666c",
   "metadata": {},
   "outputs": [],
   "source": []
  }
 ],
 "metadata": {
  "kernelspec": {
   "display_name": "Python 3 (ipykernel)",
   "language": "python",
   "name": "python3"
  },
  "language_info": {
   "codemirror_mode": {
    "name": "ipython",
    "version": 3
   },
   "file_extension": ".py",
   "mimetype": "text/x-python",
   "name": "python",
   "nbconvert_exporter": "python",
   "pygments_lexer": "ipython3",
   "version": "3.11.3"
  }
 },
 "nbformat": 4,
 "nbformat_minor": 5
}
